a = 0
b = 1
i = 0
n = input(print("Enter a number for fibonacci series"))
n = int(n)
print(a,b)
for x in range(0,n):
    c = a+b
    a = b
    b = c
    print(c)
